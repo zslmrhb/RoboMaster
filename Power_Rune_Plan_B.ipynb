{
  "nbformat": 4,
  "nbformat_minor": 0,
  "metadata": {
    "colab": {
      "name": "Power_Rune Plan B.ipynb",
      "provenance": [],
      "authorship_tag": "ABX9TyPfytiY60yFRDFnG31+Nmrm",
      "include_colab_link": true
    },
    "kernelspec": {
      "name": "python3",
      "display_name": "Python 3"
    }
  },
  "cells": [
    {
      "cell_type": "markdown",
      "metadata": {
        "id": "view-in-github",
        "colab_type": "text"
      },
      "source": [
        "<a href=\"https://colab.research.google.com/github/zslmrhb/RoboMaster/blob/main/Power_Rune_Plan_B.ipynb\" target=\"_parent\"><img src=\"https://colab.research.google.com/assets/colab-badge.svg\" alt=\"Open In Colab\"/></a>"
      ]
    },
    {
      "cell_type": "code",
      "metadata": {
        "id": "OtaqYU5bGkKJ"
      },
      "source": [
        "import cv2\n",
        "import numpy as np\n",
        "from time import time"
      ],
      "execution_count": 3,
      "outputs": []
    },
    {
      "cell_type": "markdown",
      "metadata": {
        "id": "jMKgswLgHXFI"
      },
      "source": [
        "#Load image"
      ]
    }
  ]
}